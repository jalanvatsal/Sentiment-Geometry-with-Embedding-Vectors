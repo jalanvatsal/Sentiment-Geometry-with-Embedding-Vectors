{
  "nbformat": 4,
  "nbformat_minor": 0,
  "metadata": {
    "colab": {
      "provenance": [],
      "authorship_tag": "ABX9TyOFFYvK6FcivHFAXfX3Xr6h",
      "include_colab_link": true
    },
    "kernelspec": {
      "name": "python3",
      "display_name": "Python 3"
    },
    "language_info": {
      "name": "python"
    }
  },
  "cells": [
    {
      "cell_type": "markdown",
      "metadata": {
        "id": "view-in-github",
        "colab_type": "text"
      },
      "source": [
        "<a href=\"https://colab.research.google.com/github/jalanvatsal/Sentiment-Geometry-with-Embedding-Vectors/blob/main/Sentiment_Geometry_with_Embedding_Vectors.ipynb\" target=\"_parent\"><img src=\"https://colab.research.google.com/assets/colab-badge.svg\" alt=\"Open In Colab\"/></a>"
      ]
    },
    {
      "cell_type": "markdown",
      "source": [
        "##Introduction\n",
        "\n",
        "\n",
        "- This project aims to investigate how sentiment is encoded within GPT's embedding space and whether emotional states can be represented effectively as vectors. By exploring the potential for predictable transformations between various emotional states, the goal is to understand whether sentiment can be manipulated in a structured, vector-based manner. This exploration seeks to uncover the feasibility of sentiment shifts across neutral, positive, and negative emotional spectrums, leveraging GPT's powerful latent space to examine how nuanced emotions are represented and transformed.\n",
        "\n"
      ],
      "metadata": {
        "id": "ef9_VcV3NvHr"
      }
    },
    {
      "cell_type": "markdown",
      "source": [
        "##Research Questions to Explore 🔍\n",
        "\n",
        "- Can I construct a “sentiment direction” from GPT embeddings?\n",
        "\n",
        "\n",
        "- What is the outcome of this embedding shift when applied to neutral or negative phrases?\n",
        "\n",
        "\n",
        "- Does applying vector arithmetic result in embeddings that are semantically and emotionally close to the intended target sentiment?\n"
      ],
      "metadata": {
        "id": "N90gtnbgPqfc"
      }
    },
    {
      "cell_type": "code",
      "source": [
        "# Upload Embeddings from Local\n",
        "from google.colab import files\n",
        "embeddings = files.upload()"
      ],
      "metadata": {
        "colab": {
          "base_uri": "https://localhost:8080/",
          "height": 74
        },
        "id": "emdPEzz3qaWI",
        "outputId": "9357f451-05fe-465e-a5f2-03d20b375192"
      },
      "execution_count": null,
      "outputs": [
        {
          "output_type": "display_data",
          "data": {
            "text/plain": [
              "<IPython.core.display.HTML object>"
            ],
            "text/html": [
              "\n",
              "     <input type=\"file\" id=\"files-23caab24-104d-462c-b0df-129186bd1d0d\" name=\"files[]\" multiple disabled\n",
              "        style=\"border:none\" />\n",
              "     <output id=\"result-23caab24-104d-462c-b0df-129186bd1d0d\">\n",
              "      Upload widget is only available when the cell has been executed in the\n",
              "      current browser session. Please rerun this cell to enable.\n",
              "      </output>\n",
              "      <script>// Copyright 2017 Google LLC\n",
              "//\n",
              "// Licensed under the Apache License, Version 2.0 (the \"License\");\n",
              "// you may not use this file except in compliance with the License.\n",
              "// You may obtain a copy of the License at\n",
              "//\n",
              "//      http://www.apache.org/licenses/LICENSE-2.0\n",
              "//\n",
              "// Unless required by applicable law or agreed to in writing, software\n",
              "// distributed under the License is distributed on an \"AS IS\" BASIS,\n",
              "// WITHOUT WARRANTIES OR CONDITIONS OF ANY KIND, either express or implied.\n",
              "// See the License for the specific language governing permissions and\n",
              "// limitations under the License.\n",
              "\n",
              "/**\n",
              " * @fileoverview Helpers for google.colab Python module.\n",
              " */\n",
              "(function(scope) {\n",
              "function span(text, styleAttributes = {}) {\n",
              "  const element = document.createElement('span');\n",
              "  element.textContent = text;\n",
              "  for (const key of Object.keys(styleAttributes)) {\n",
              "    element.style[key] = styleAttributes[key];\n",
              "  }\n",
              "  return element;\n",
              "}\n",
              "\n",
              "// Max number of bytes which will be uploaded at a time.\n",
              "const MAX_PAYLOAD_SIZE = 100 * 1024;\n",
              "\n",
              "function _uploadFiles(inputId, outputId) {\n",
              "  const steps = uploadFilesStep(inputId, outputId);\n",
              "  const outputElement = document.getElementById(outputId);\n",
              "  // Cache steps on the outputElement to make it available for the next call\n",
              "  // to uploadFilesContinue from Python.\n",
              "  outputElement.steps = steps;\n",
              "\n",
              "  return _uploadFilesContinue(outputId);\n",
              "}\n",
              "\n",
              "// This is roughly an async generator (not supported in the browser yet),\n",
              "// where there are multiple asynchronous steps and the Python side is going\n",
              "// to poll for completion of each step.\n",
              "// This uses a Promise to block the python side on completion of each step,\n",
              "// then passes the result of the previous step as the input to the next step.\n",
              "function _uploadFilesContinue(outputId) {\n",
              "  const outputElement = document.getElementById(outputId);\n",
              "  const steps = outputElement.steps;\n",
              "\n",
              "  const next = steps.next(outputElement.lastPromiseValue);\n",
              "  return Promise.resolve(next.value.promise).then((value) => {\n",
              "    // Cache the last promise value to make it available to the next\n",
              "    // step of the generator.\n",
              "    outputElement.lastPromiseValue = value;\n",
              "    return next.value.response;\n",
              "  });\n",
              "}\n",
              "\n",
              "/**\n",
              " * Generator function which is called between each async step of the upload\n",
              " * process.\n",
              " * @param {string} inputId Element ID of the input file picker element.\n",
              " * @param {string} outputId Element ID of the output display.\n",
              " * @return {!Iterable<!Object>} Iterable of next steps.\n",
              " */\n",
              "function* uploadFilesStep(inputId, outputId) {\n",
              "  const inputElement = document.getElementById(inputId);\n",
              "  inputElement.disabled = false;\n",
              "\n",
              "  const outputElement = document.getElementById(outputId);\n",
              "  outputElement.innerHTML = '';\n",
              "\n",
              "  const pickedPromise = new Promise((resolve) => {\n",
              "    inputElement.addEventListener('change', (e) => {\n",
              "      resolve(e.target.files);\n",
              "    });\n",
              "  });\n",
              "\n",
              "  const cancel = document.createElement('button');\n",
              "  inputElement.parentElement.appendChild(cancel);\n",
              "  cancel.textContent = 'Cancel upload';\n",
              "  const cancelPromise = new Promise((resolve) => {\n",
              "    cancel.onclick = () => {\n",
              "      resolve(null);\n",
              "    };\n",
              "  });\n",
              "\n",
              "  // Wait for the user to pick the files.\n",
              "  const files = yield {\n",
              "    promise: Promise.race([pickedPromise, cancelPromise]),\n",
              "    response: {\n",
              "      action: 'starting',\n",
              "    }\n",
              "  };\n",
              "\n",
              "  cancel.remove();\n",
              "\n",
              "  // Disable the input element since further picks are not allowed.\n",
              "  inputElement.disabled = true;\n",
              "\n",
              "  if (!files) {\n",
              "    return {\n",
              "      response: {\n",
              "        action: 'complete',\n",
              "      }\n",
              "    };\n",
              "  }\n",
              "\n",
              "  for (const file of files) {\n",
              "    const li = document.createElement('li');\n",
              "    li.append(span(file.name, {fontWeight: 'bold'}));\n",
              "    li.append(span(\n",
              "        `(${file.type || 'n/a'}) - ${file.size} bytes, ` +\n",
              "        `last modified: ${\n",
              "            file.lastModifiedDate ? file.lastModifiedDate.toLocaleDateString() :\n",
              "                                    'n/a'} - `));\n",
              "    const percent = span('0% done');\n",
              "    li.appendChild(percent);\n",
              "\n",
              "    outputElement.appendChild(li);\n",
              "\n",
              "    const fileDataPromise = new Promise((resolve) => {\n",
              "      const reader = new FileReader();\n",
              "      reader.onload = (e) => {\n",
              "        resolve(e.target.result);\n",
              "      };\n",
              "      reader.readAsArrayBuffer(file);\n",
              "    });\n",
              "    // Wait for the data to be ready.\n",
              "    let fileData = yield {\n",
              "      promise: fileDataPromise,\n",
              "      response: {\n",
              "        action: 'continue',\n",
              "      }\n",
              "    };\n",
              "\n",
              "    // Use a chunked sending to avoid message size limits. See b/62115660.\n",
              "    let position = 0;\n",
              "    do {\n",
              "      const length = Math.min(fileData.byteLength - position, MAX_PAYLOAD_SIZE);\n",
              "      const chunk = new Uint8Array(fileData, position, length);\n",
              "      position += length;\n",
              "\n",
              "      const base64 = btoa(String.fromCharCode.apply(null, chunk));\n",
              "      yield {\n",
              "        response: {\n",
              "          action: 'append',\n",
              "          file: file.name,\n",
              "          data: base64,\n",
              "        },\n",
              "      };\n",
              "\n",
              "      let percentDone = fileData.byteLength === 0 ?\n",
              "          100 :\n",
              "          Math.round((position / fileData.byteLength) * 100);\n",
              "      percent.textContent = `${percentDone}% done`;\n",
              "\n",
              "    } while (position < fileData.byteLength);\n",
              "  }\n",
              "\n",
              "  // All done.\n",
              "  yield {\n",
              "    response: {\n",
              "      action: 'complete',\n",
              "    }\n",
              "  };\n",
              "}\n",
              "\n",
              "scope.google = scope.google || {};\n",
              "scope.google.colab = scope.google.colab || {};\n",
              "scope.google.colab._files = {\n",
              "  _uploadFiles,\n",
              "  _uploadFilesContinue,\n",
              "};\n",
              "})(self);\n",
              "</script> "
            ]
          },
          "metadata": {}
        },
        {
          "output_type": "stream",
          "name": "stdout",
          "text": [
            "Saving embeddings.json to embeddings.json\n"
          ]
        }
      ]
    },
    {
      "cell_type": "code",
      "source": [
        "# Verify that the Embeddings are Loaded\n",
        "import json\n",
        "\n",
        "with open('embeddings.json', 'r') as f:\n",
        "    embeddings = json.load(f)\n",
        "\n",
        "# Optional: view categories\n",
        "print(embeddings.keys())  # ['positive', 'negative', 'neutral']\n"
      ],
      "metadata": {
        "colab": {
          "base_uri": "https://localhost:8080/"
        },
        "id": "n1FKayqJqhhP",
        "outputId": "2ff3b571-aca1-4721-9439-a91f3c1f14d9"
      },
      "execution_count": null,
      "outputs": [
        {
          "output_type": "stream",
          "name": "stdout",
          "text": [
            "dict_keys(['positive', 'negative', 'neutral'])\n"
          ]
        }
      ]
    },
    {
      "cell_type": "markdown",
      "source": [
        "##PCA Application\n",
        "\n",
        "- To better understand how our sentence embeddings capture sentiment, I apply Principal Component Analysis (PCA) to reduce the high-dimensional embedding vectors to both 2D and 3D. This allows us to visually explore the structure of the data.\n",
        "\n",
        "- Each point on the scatter plot represents a sentence, and its position reflects the reduced (PCA-transformed) embedding. The points are colored based on sentiment: green for positive, red for negative, and grey for neutral.\n",
        "\n",
        "- If the embedding model captures sentiment meaningfully, we expect to see distinct clusters for each sentiment class. This visualization helps evaluate the effectiveness of the embeddings in separating emotional tones.\n",
        "\n"
      ],
      "metadata": {
        "id": "355EOx1r6Mo4"
      }
    },
    {
      "cell_type": "markdown",
      "source": [
        "##PCA Algorithm\n",
        "\n",
        "Let $\\mathbf{X} \\in \\mathbb{R}^{1536 \\times 65}$ be our data matrix with $65$ data samples and $1536$ features, where $\\mathbf{x}_i$ represents the $i$-th sample of the data (i.e., the $i$-th column of $\\mathbf{X}$).\n",
        "\n",
        "\n",
        "\n",
        "- 1. Compute the Mean Vector,\n",
        "Calculate the sample mean across all data points:\n",
        "$$\n",
        "\\mathbf{m} = \\frac{1}{65} \\sum_{i=1}^{65} \\mathbf{x}_i\n",
        "$$\n",
        "\n",
        "- 2. Center the Data,\n",
        "Remove the mean from each data sample to obtain zero-centered data:\n",
        "$$\n",
        "\\mathbf{X} = \\mathbf{X} - \\begin{bmatrix} \\mathbf{m} & \\mathbf{m} & \\cdots & \\mathbf{m} \\end{bmatrix}\n",
        "$$\n",
        "\n",
        "- 3. Singular Value Decomposition,\n",
        "Compute the SVD of the centered data matrix:\n",
        "$$\n",
        "\\mathbf{X} = \\mathbf{U} \\boldsymbol{\\Sigma} \\mathbf{V}^T\n",
        "$$\n",
        "\n",
        "    where:\n",
        "    - $\\mathbf{U} \\in \\mathbb{R}^{1536 \\times 1536}$ contains the left singular vectors\n",
        "    - $\\boldsymbol{\\Sigma} \\in \\mathbb{R}^{1536 \\times 65}$ contains the singular values on the diagonal\n",
        "    - $\\mathbf{V} \\in \\mathbb{R}^{65 \\times 65}$ contains the right singular vectors\n",
        "\n",
        "- 4. Extract Principal Components,\n",
        "Take the first $k$ singular vectors and values (where k = 2 or 3 in our analysis):\n",
        "\n",
        "    - $\\mathbf{U}_{(k)} \\in \\mathbb{R}^{1536 \\times k}$ - first $k$ columns of $\\mathbf{U}$\n",
        "    - $\\mathbf{V}_{(k)} \\in \\mathbb{R}^{65 \\times k}$ - first $k$ columns of $\\mathbf{V}$  \n",
        "    - $\\boldsymbol{\\Sigma}_{(k)} \\in \\mathbb{R}^{k \\times k}$ - first $k$ singular values\n",
        "\n",
        "- 5. Dimensionality Reduction,\n",
        "Project the centered data onto the principal component subspace:\n",
        "$$\n",
        "\\mathbf{X}_{\\text{reduced}} = \\boldsymbol{\\Sigma}_{(k)} \\mathbf{V}_{(k)}^T\n",
        "$$\n",
        "\n",
        "\n",
        "> **Note:** In the implementation, X is taken to have 65 rows and 1536 columns instead as per sklearn's .fit_transform() method's definition.\n"
      ],
      "metadata": {
        "id": "GeCjxmSGBVzv"
      }
    },
    {
      "cell_type": "code",
      "source": [
        "import numpy as np\n",
        "\n",
        "# Initialize lists\n",
        "X = []         # Matrix of embeddings\n",
        "labels = []    # Sentiment labels\n",
        "sentences = [] # Actual sentences\n",
        "\n",
        "# Flatten the dict\n",
        "for sentiment, sentence_dict in embeddings.items():\n",
        "    for sentence, embedding in sentence_dict.items():\n",
        "        X.append(embedding)\n",
        "        labels.append(sentiment)\n",
        "        sentences.append(sentence)\n",
        "\n",
        "# Convert to numpy array (for PCA)\n",
        "X = np.array(X)"
      ],
      "metadata": {
        "id": "1hqwgssKH323"
      },
      "execution_count": null,
      "outputs": []
    },
    {
      "cell_type": "code",
      "source": [
        "# Verify Shape\n",
        "print(X.shape)"
      ],
      "metadata": {
        "colab": {
          "base_uri": "https://localhost:8080/"
        },
        "id": "nETnrIKANyK4",
        "outputId": "358a2ce3-aedc-4c3b-d012-4d887cca9a41"
      },
      "execution_count": null,
      "outputs": [
        {
          "output_type": "stream",
          "name": "stdout",
          "text": [
            "(65, 1536)\n"
          ]
        }
      ]
    },
    {
      "cell_type": "code",
      "source": [
        "from sklearn.preprocessing import StandardScaler\n",
        "from sklearn.decomposition import PCA\n",
        "\n",
        "# Center Data\n",
        "scaler = StandardScaler()\n",
        "X_scaled = scaler.fit_transform(X)\n",
        "print(X_scaled[:2])"
      ],
      "metadata": {
        "colab": {
          "base_uri": "https://localhost:8080/"
        },
        "id": "oCT4QFDvOi3d",
        "outputId": "4bc89eff-8493-48bb-9060-e7ee31657efe"
      },
      "execution_count": null,
      "outputs": [
        {
          "output_type": "stream",
          "name": "stdout",
          "text": [
            "[[-0.01502064  0.73151388 -0.30442956 ... -0.04982097 -0.35999394\n",
            "   1.11472368]\n",
            " [ 0.32064976 -1.61657139  0.6602409  ...  0.83044809 -0.32182061\n",
            "   0.08635003]]\n"
          ]
        }
      ]
    },
    {
      "cell_type": "code",
      "source": [
        "pca = PCA(n_components=2)\n",
        "X_reduced = pca.fit_transform(X_scaled)"
      ],
      "metadata": {
        "id": "rZsYi5LkO2jX"
      },
      "execution_count": null,
      "outputs": []
    },
    {
      "cell_type": "code",
      "source": [
        "import plotly.express as px\n",
        "import pandas as pd\n",
        "\n",
        "# Create a color palette for the 3 sentiment classes\n",
        "color_map = {\"positive\": \"green\", \"negative\": \"red\", \"neutral\": \"gray\"}\n",
        "\n",
        "# Plot PCA Visualization\n",
        "df = pd.DataFrame({\n",
        "    'Principal Component 1': X_reduced[:, 0],\n",
        "    'Principal Component 2': X_reduced[:, 1],\n",
        "    'Sentiment': labels,\n",
        "    'Sentence': sentences\n",
        "})\n",
        "\n",
        "fig = px.scatter(\n",
        "    df,\n",
        "    x='Principal Component 1',\n",
        "    y='Principal Component 2',\n",
        "    color='Sentiment',\n",
        "    color_discrete_map=color_map,\n",
        "    hover_data=['Sentence'],  # Show sentence text on hover\n",
        "    title='PCA of Sentence Embeddings by Sentiment'\n",
        ")\n",
        "\n",
        "fig.update_traces(marker=dict(size=12, line=dict(width=1, color='DarkSlateGrey'), opacity=0.8))\n",
        "\n",
        "fig.show()"
      ],
      "metadata": {
        "colab": {
          "base_uri": "https://localhost:8080/",
          "height": 542
        },
        "id": "yEQiXPlnO7EH",
        "outputId": "9ec60f82-2053-4fd4-c4e8-87d36e0209cf"
      },
      "execution_count": null,
      "outputs": [
        {
          "output_type": "display_data",
          "data": {
            "text/html": [
              "<html>\n",
              "<head><meta charset=\"utf-8\" /></head>\n",
              "<body>\n",
              "    <div>            <script src=\"https://cdnjs.cloudflare.com/ajax/libs/mathjax/2.7.5/MathJax.js?config=TeX-AMS-MML_SVG\"></script><script type=\"text/javascript\">if (window.MathJax && window.MathJax.Hub && window.MathJax.Hub.Config) {window.MathJax.Hub.Config({SVG: {font: \"STIX-Web\"}});}</script>                <script type=\"text/javascript\">window.PlotlyConfig = {MathJaxConfig: 'local'};</script>\n",
              "        <script charset=\"utf-8\" src=\"https://cdn.plot.ly/plotly-2.35.2.min.js\"></script>                <div id=\"163ab081-b203-4974-9311-2d34449e8f26\" class=\"plotly-graph-div\" style=\"height:525px; width:100%;\"></div>            <script type=\"text/javascript\">                                    window.PLOTLYENV=window.PLOTLYENV || {};                                    if (document.getElementById(\"163ab081-b203-4974-9311-2d34449e8f26\")) {                    Plotly.newPlot(                        \"163ab081-b203-4974-9311-2d34449e8f26\",                        [{\"customdata\":[[\"I am feeling fantastic today.\"],[\"Life is beautiful when you're surrounded by love.\"],[\"That was the best surprise I've had in years.\"],[\"I'm truly grateful for my friends.\"],[\"The weather is perfect, and so is my mood.\"],[\"I crushed my goals this week!\"],[\"I can't stop smiling — this is amazing.\"],[\"That compliment made my day.\"],[\"I'm in such a good headspace lately.\"],[\"Everything feels like it's falling into place.\"],[\"This vacation is everything I needed.\"],[\"I feel inspired and energized.\"],[\"That movie filled me with hope.\"],[\"I just got great news — I got the job!\"],[\"I'm proud of what I've accomplished.\"],[\"She laughed, and it was contagious joy.\"],[\"I've never been this happy.\"],[\"Things are finally turning around.\"],[\"Today feels like a fresh start.\"],[\"I feel deeply at peace right now.\"],[\"He hugged me, and everything felt okay.\"],[\"This cake is divine.\"],[\"I'm bursting with excitement!\"],[\"Just got promoted — I'm thrilled!\"],[\"I love the way life surprises me sometimes.\"]],\"hovertemplate\":\"Sentiment=positive\\u003cbr\\u003ePrincipal Component 1=%{x}\\u003cbr\\u003ePrincipal Component 2=%{y}\\u003cbr\\u003eSentence=%{customdata[0]}\\u003cextra\\u003e\\u003c\\u002fextra\\u003e\",\"legendgroup\":\"positive\",\"marker\":{\"color\":\"green\",\"symbol\":\"circle\",\"line\":{\"color\":\"DarkSlateGrey\",\"width\":1},\"opacity\":0.8,\"size\":12},\"mode\":\"markers\",\"name\":\"positive\",\"orientation\":\"v\",\"showlegend\":true,\"x\":[-3.8911011733203433,-15.77976527145015,-22.32999604940219,-11.403208200144311,-9.303123021994283,-4.847630617322293,-16.36832281750177,-19.42199641810074,-4.1007377421563636,-1.8834496944944068,-9.338241137035805,-3.0764426211794262,-8.30338657382931,-17.767990460029235,-8.078000279899536,-21.959029509237986,-12.932883013982025,-6.365942109732133,-3.0115942569973955,0.23035456883828956,-1.2304536112495685,-13.43177242752262,-14.097032631745567,-18.47433028159561,-13.155330501571525],\"xaxis\":\"x\",\"y\":[-16.214076141438888,-3.7265624483781177,3.1316601509905735,-0.29388469066319456,-12.978101067307241,10.369037823744288,0.6154890917295595,-3.9986914546278016,-11.792859509251654,-4.322382199281402,-0.7611329545574533,-10.063186146535841,2.616334936648105,-2.4646638970607007,-0.6443488257125514,-0.8050489253114302,-1.1473603888869959,-1.2509808119081138,-5.518359980307542,-15.35510747003579,-13.097353191866835,3.5523891287914324,0.6534297990234552,-4.698720461841958,0.8686290699409218],\"yaxis\":\"y\",\"type\":\"scatter\"},{\"customdata\":[[\"I'm feeling really down today.\"],[\"Nothing seems to go my way anymore.\"],[\"I just feel empty inside.\"],[\"That was the worst experience of my life.\"],[\"I'm overwhelmed and exhausted.\"],[\"I feel like a failure.\"],[\"I don't know how much more I can take.\"],[\"I'm losing hope.\"],[\"Every day feels harder than the last.\"],[\"I wish I could disappear for a while.\"],[\"That comment really hurt.\"],[\"I hate how I feel right now.\"],[\"I'm completely heartbroken.\"],[\"This isn't how I thought life would go.\"],[\"I cried myself to sleep last night.\"],[\"I feel stuck and powerless.\"],[\"It's all just too much sometimes.\"],[\"I failed again.\"],[\"Everything is falling apart.\"],[\"I feel like giving up.\"],[\"I'm so frustrated I could scream.\"],[\"I regret ever trying.\"],[\"No one understands what I'm going through.\"],[\"I can't shake this sadness.\"],[\"That news hit me like a truck.\"]],\"hovertemplate\":\"Sentiment=negative\\u003cbr\\u003ePrincipal Component 1=%{x}\\u003cbr\\u003ePrincipal Component 2=%{y}\\u003cbr\\u003eSentence=%{customdata[0]}\\u003cextra\\u003e\\u003c\\u002fextra\\u003e\",\"legendgroup\":\"negative\",\"marker\":{\"color\":\"red\",\"symbol\":\"circle\",\"line\":{\"color\":\"DarkSlateGrey\",\"width\":1},\"opacity\":0.8,\"size\":12},\"mode\":\"markers\",\"name\":\"negative\",\"orientation\":\"v\",\"showlegend\":true,\"x\":[11.588226018431174,7.338956194960898,13.755830939135308,-2.230182316223036,4.503139688111494,12.60876096197137,7.946763226566158,7.899647380003285,6.165790573855672,-1.0711912310769844,-2.6324741571566097,12.34343703646225,4.587550351933633,-1.0028232493495408,0.7445178942185036,15.469733475835627,-0.17118067604249218,3.2015378740538507,4.863996619058605,13.400761949383732,2.684717865908959,-0.7367692162486834,10.198540492976125,7.52610666185294,-7.61316434041097],\"xaxis\":\"x\",\"y\":[-0.5224467860930235,8.358719370862719,-0.5236533724583153,16.856941030567004,5.8986428659778305,12.46382348067806,14.089108641404357,16.842023485797128,12.27362820176761,2.0265927048743912,11.068642619171838,3.125110096890256,12.515871112589464,6.697495258392196,9.157323562535389,7.10776029501238,9.841316648252821,18.138618023461785,11.968162140016867,12.901817658823994,15.125232625994833,18.160458652603072,10.302230829092096,7.953128016540972,6.201888229624928],\"yaxis\":\"y\",\"type\":\"scatter\"},{\"customdata\":[[\"I feel okay.\"],[\"I'm not sure how I feel.\"],[\"It was just an ordinary day.\"],[\"I'm in a weird mood.\"],[\"Things are fine, I guess.\"],[\"I feel nothing in particular.\"],[\"It's been a quiet afternoon.\"],[\"I'm somewhere in the middle.\"],[\"I feel a bit off, but not bad.\"],[\"Nothing really happened today.\"],[\"I feel neutral about the situation.\"],[\"I guess I'm alright.\"],[\"The day went by uneventfully.\"],[\"I feel kind of numb.\"],[\"I'm just existing right now.\"]],\"hovertemplate\":\"Sentiment=neutral\\u003cbr\\u003ePrincipal Component 1=%{x}\\u003cbr\\u003ePrincipal Component 2=%{y}\\u003cbr\\u003eSentence=%{customdata[0]}\\u003cextra\\u003e\\u003c\\u002fextra\\u003e\",\"legendgroup\":\"neutral\",\"marker\":{\"color\":\"gray\",\"symbol\":\"circle\",\"line\":{\"color\":\"DarkSlateGrey\",\"width\":1},\"opacity\":0.8,\"size\":12},\"mode\":\"markers\",\"name\":\"neutral\",\"orientation\":\"v\",\"showlegend\":true,\"x\":[13.980368633331352,13.707682102052127,-2.6107203108535355,6.70206249252732,5.218954187298179,16.269244114443687,1.1619221809950138,9.981434772800574,13.849429570225857,4.687429701817588,14.928095300966884,6.645969336276844,1.1732257927155891,17.313956134750175,5.94212182509738],\"xaxis\":\"x\",\"y\":[-18.88628586891504,-6.220364259131245,-7.038199398191738,-7.794754174246529,-16.511991994820814,-13.28369775857336,-9.149205770039941,-6.991913193857585,-18.656651697086016,-7.789618637755483,-10.066849894508588,-14.072096650402278,-7.282749194138361,-9.806334798412516,-7.151871538195992],\"yaxis\":\"y\",\"type\":\"scatter\"}],                        {\"template\":{\"data\":{\"histogram2dcontour\":[{\"type\":\"histogram2dcontour\",\"colorbar\":{\"outlinewidth\":0,\"ticks\":\"\"},\"colorscale\":[[0.0,\"#0d0887\"],[0.1111111111111111,\"#46039f\"],[0.2222222222222222,\"#7201a8\"],[0.3333333333333333,\"#9c179e\"],[0.4444444444444444,\"#bd3786\"],[0.5555555555555556,\"#d8576b\"],[0.6666666666666666,\"#ed7953\"],[0.7777777777777778,\"#fb9f3a\"],[0.8888888888888888,\"#fdca26\"],[1.0,\"#f0f921\"]]}],\"choropleth\":[{\"type\":\"choropleth\",\"colorbar\":{\"outlinewidth\":0,\"ticks\":\"\"}}],\"histogram2d\":[{\"type\":\"histogram2d\",\"colorbar\":{\"outlinewidth\":0,\"ticks\":\"\"},\"colorscale\":[[0.0,\"#0d0887\"],[0.1111111111111111,\"#46039f\"],[0.2222222222222222,\"#7201a8\"],[0.3333333333333333,\"#9c179e\"],[0.4444444444444444,\"#bd3786\"],[0.5555555555555556,\"#d8576b\"],[0.6666666666666666,\"#ed7953\"],[0.7777777777777778,\"#fb9f3a\"],[0.8888888888888888,\"#fdca26\"],[1.0,\"#f0f921\"]]}],\"heatmap\":[{\"type\":\"heatmap\",\"colorbar\":{\"outlinewidth\":0,\"ticks\":\"\"},\"colorscale\":[[0.0,\"#0d0887\"],[0.1111111111111111,\"#46039f\"],[0.2222222222222222,\"#7201a8\"],[0.3333333333333333,\"#9c179e\"],[0.4444444444444444,\"#bd3786\"],[0.5555555555555556,\"#d8576b\"],[0.6666666666666666,\"#ed7953\"],[0.7777777777777778,\"#fb9f3a\"],[0.8888888888888888,\"#fdca26\"],[1.0,\"#f0f921\"]]}],\"heatmapgl\":[{\"type\":\"heatmapgl\",\"colorbar\":{\"outlinewidth\":0,\"ticks\":\"\"},\"colorscale\":[[0.0,\"#0d0887\"],[0.1111111111111111,\"#46039f\"],[0.2222222222222222,\"#7201a8\"],[0.3333333333333333,\"#9c179e\"],[0.4444444444444444,\"#bd3786\"],[0.5555555555555556,\"#d8576b\"],[0.6666666666666666,\"#ed7953\"],[0.7777777777777778,\"#fb9f3a\"],[0.8888888888888888,\"#fdca26\"],[1.0,\"#f0f921\"]]}],\"contourcarpet\":[{\"type\":\"contourcarpet\",\"colorbar\":{\"outlinewidth\":0,\"ticks\":\"\"}}],\"contour\":[{\"type\":\"contour\",\"colorbar\":{\"outlinewidth\":0,\"ticks\":\"\"},\"colorscale\":[[0.0,\"#0d0887\"],[0.1111111111111111,\"#46039f\"],[0.2222222222222222,\"#7201a8\"],[0.3333333333333333,\"#9c179e\"],[0.4444444444444444,\"#bd3786\"],[0.5555555555555556,\"#d8576b\"],[0.6666666666666666,\"#ed7953\"],[0.7777777777777778,\"#fb9f3a\"],[0.8888888888888888,\"#fdca26\"],[1.0,\"#f0f921\"]]}],\"surface\":[{\"type\":\"surface\",\"colorbar\":{\"outlinewidth\":0,\"ticks\":\"\"},\"colorscale\":[[0.0,\"#0d0887\"],[0.1111111111111111,\"#46039f\"],[0.2222222222222222,\"#7201a8\"],[0.3333333333333333,\"#9c179e\"],[0.4444444444444444,\"#bd3786\"],[0.5555555555555556,\"#d8576b\"],[0.6666666666666666,\"#ed7953\"],[0.7777777777777778,\"#fb9f3a\"],[0.8888888888888888,\"#fdca26\"],[1.0,\"#f0f921\"]]}],\"mesh3d\":[{\"type\":\"mesh3d\",\"colorbar\":{\"outlinewidth\":0,\"ticks\":\"\"}}],\"scatter\":[{\"fillpattern\":{\"fillmode\":\"overlay\",\"size\":10,\"solidity\":0.2},\"type\":\"scatter\"}],\"parcoords\":[{\"type\":\"parcoords\",\"line\":{\"colorbar\":{\"outlinewidth\":0,\"ticks\":\"\"}}}],\"scatterpolargl\":[{\"type\":\"scatterpolargl\",\"marker\":{\"colorbar\":{\"outlinewidth\":0,\"ticks\":\"\"}}}],\"bar\":[{\"error_x\":{\"color\":\"#2a3f5f\"},\"error_y\":{\"color\":\"#2a3f5f\"},\"marker\":{\"line\":{\"color\":\"#E5ECF6\",\"width\":0.5},\"pattern\":{\"fillmode\":\"overlay\",\"size\":10,\"solidity\":0.2}},\"type\":\"bar\"}],\"scattergeo\":[{\"type\":\"scattergeo\",\"marker\":{\"colorbar\":{\"outlinewidth\":0,\"ticks\":\"\"}}}],\"scatterpolar\":[{\"type\":\"scatterpolar\",\"marker\":{\"colorbar\":{\"outlinewidth\":0,\"ticks\":\"\"}}}],\"histogram\":[{\"marker\":{\"pattern\":{\"fillmode\":\"overlay\",\"size\":10,\"solidity\":0.2}},\"type\":\"histogram\"}],\"scattergl\":[{\"type\":\"scattergl\",\"marker\":{\"colorbar\":{\"outlinewidth\":0,\"ticks\":\"\"}}}],\"scatter3d\":[{\"type\":\"scatter3d\",\"line\":{\"colorbar\":{\"outlinewidth\":0,\"ticks\":\"\"}},\"marker\":{\"colorbar\":{\"outlinewidth\":0,\"ticks\":\"\"}}}],\"scattermapbox\":[{\"type\":\"scattermapbox\",\"marker\":{\"colorbar\":{\"outlinewidth\":0,\"ticks\":\"\"}}}],\"scatterternary\":[{\"type\":\"scatterternary\",\"marker\":{\"colorbar\":{\"outlinewidth\":0,\"ticks\":\"\"}}}],\"scattercarpet\":[{\"type\":\"scattercarpet\",\"marker\":{\"colorbar\":{\"outlinewidth\":0,\"ticks\":\"\"}}}],\"carpet\":[{\"aaxis\":{\"endlinecolor\":\"#2a3f5f\",\"gridcolor\":\"white\",\"linecolor\":\"white\",\"minorgridcolor\":\"white\",\"startlinecolor\":\"#2a3f5f\"},\"baxis\":{\"endlinecolor\":\"#2a3f5f\",\"gridcolor\":\"white\",\"linecolor\":\"white\",\"minorgridcolor\":\"white\",\"startlinecolor\":\"#2a3f5f\"},\"type\":\"carpet\"}],\"table\":[{\"cells\":{\"fill\":{\"color\":\"#EBF0F8\"},\"line\":{\"color\":\"white\"}},\"header\":{\"fill\":{\"color\":\"#C8D4E3\"},\"line\":{\"color\":\"white\"}},\"type\":\"table\"}],\"barpolar\":[{\"marker\":{\"line\":{\"color\":\"#E5ECF6\",\"width\":0.5},\"pattern\":{\"fillmode\":\"overlay\",\"size\":10,\"solidity\":0.2}},\"type\":\"barpolar\"}],\"pie\":[{\"automargin\":true,\"type\":\"pie\"}]},\"layout\":{\"autotypenumbers\":\"strict\",\"colorway\":[\"#636efa\",\"#EF553B\",\"#00cc96\",\"#ab63fa\",\"#FFA15A\",\"#19d3f3\",\"#FF6692\",\"#B6E880\",\"#FF97FF\",\"#FECB52\"],\"font\":{\"color\":\"#2a3f5f\"},\"hovermode\":\"closest\",\"hoverlabel\":{\"align\":\"left\"},\"paper_bgcolor\":\"white\",\"plot_bgcolor\":\"#E5ECF6\",\"polar\":{\"bgcolor\":\"#E5ECF6\",\"angularaxis\":{\"gridcolor\":\"white\",\"linecolor\":\"white\",\"ticks\":\"\"},\"radialaxis\":{\"gridcolor\":\"white\",\"linecolor\":\"white\",\"ticks\":\"\"}},\"ternary\":{\"bgcolor\":\"#E5ECF6\",\"aaxis\":{\"gridcolor\":\"white\",\"linecolor\":\"white\",\"ticks\":\"\"},\"baxis\":{\"gridcolor\":\"white\",\"linecolor\":\"white\",\"ticks\":\"\"},\"caxis\":{\"gridcolor\":\"white\",\"linecolor\":\"white\",\"ticks\":\"\"}},\"coloraxis\":{\"colorbar\":{\"outlinewidth\":0,\"ticks\":\"\"}},\"colorscale\":{\"sequential\":[[0.0,\"#0d0887\"],[0.1111111111111111,\"#46039f\"],[0.2222222222222222,\"#7201a8\"],[0.3333333333333333,\"#9c179e\"],[0.4444444444444444,\"#bd3786\"],[0.5555555555555556,\"#d8576b\"],[0.6666666666666666,\"#ed7953\"],[0.7777777777777778,\"#fb9f3a\"],[0.8888888888888888,\"#fdca26\"],[1.0,\"#f0f921\"]],\"sequentialminus\":[[0.0,\"#0d0887\"],[0.1111111111111111,\"#46039f\"],[0.2222222222222222,\"#7201a8\"],[0.3333333333333333,\"#9c179e\"],[0.4444444444444444,\"#bd3786\"],[0.5555555555555556,\"#d8576b\"],[0.6666666666666666,\"#ed7953\"],[0.7777777777777778,\"#fb9f3a\"],[0.8888888888888888,\"#fdca26\"],[1.0,\"#f0f921\"]],\"diverging\":[[0,\"#8e0152\"],[0.1,\"#c51b7d\"],[0.2,\"#de77ae\"],[0.3,\"#f1b6da\"],[0.4,\"#fde0ef\"],[0.5,\"#f7f7f7\"],[0.6,\"#e6f5d0\"],[0.7,\"#b8e186\"],[0.8,\"#7fbc41\"],[0.9,\"#4d9221\"],[1,\"#276419\"]]},\"xaxis\":{\"gridcolor\":\"white\",\"linecolor\":\"white\",\"ticks\":\"\",\"title\":{\"standoff\":15},\"zerolinecolor\":\"white\",\"automargin\":true,\"zerolinewidth\":2},\"yaxis\":{\"gridcolor\":\"white\",\"linecolor\":\"white\",\"ticks\":\"\",\"title\":{\"standoff\":15},\"zerolinecolor\":\"white\",\"automargin\":true,\"zerolinewidth\":2},\"scene\":{\"xaxis\":{\"backgroundcolor\":\"#E5ECF6\",\"gridcolor\":\"white\",\"linecolor\":\"white\",\"showbackground\":true,\"ticks\":\"\",\"zerolinecolor\":\"white\",\"gridwidth\":2},\"yaxis\":{\"backgroundcolor\":\"#E5ECF6\",\"gridcolor\":\"white\",\"linecolor\":\"white\",\"showbackground\":true,\"ticks\":\"\",\"zerolinecolor\":\"white\",\"gridwidth\":2},\"zaxis\":{\"backgroundcolor\":\"#E5ECF6\",\"gridcolor\":\"white\",\"linecolor\":\"white\",\"showbackground\":true,\"ticks\":\"\",\"zerolinecolor\":\"white\",\"gridwidth\":2}},\"shapedefaults\":{\"line\":{\"color\":\"#2a3f5f\"}},\"annotationdefaults\":{\"arrowcolor\":\"#2a3f5f\",\"arrowhead\":0,\"arrowwidth\":1},\"geo\":{\"bgcolor\":\"white\",\"landcolor\":\"#E5ECF6\",\"subunitcolor\":\"white\",\"showland\":true,\"showlakes\":true,\"lakecolor\":\"white\"},\"title\":{\"x\":0.05},\"mapbox\":{\"style\":\"light\"}}},\"xaxis\":{\"anchor\":\"y\",\"domain\":[0.0,1.0],\"title\":{\"text\":\"Principal Component 1\"}},\"yaxis\":{\"anchor\":\"x\",\"domain\":[0.0,1.0],\"title\":{\"text\":\"Principal Component 2\"}},\"legend\":{\"title\":{\"text\":\"Sentiment\"},\"tracegroupgap\":0},\"title\":{\"text\":\"PCA of Sentence Embeddings by Sentiment\"}},                        {\"responsive\": true}                    ).then(function(){\n",
              "                            \n",
              "var gd = document.getElementById('163ab081-b203-4974-9311-2d34449e8f26');\n",
              "var x = new MutationObserver(function (mutations, observer) {{\n",
              "        var display = window.getComputedStyle(gd).display;\n",
              "        if (!display || display === 'none') {{\n",
              "            console.log([gd, 'removed!']);\n",
              "            Plotly.purge(gd);\n",
              "            observer.disconnect();\n",
              "        }}\n",
              "}});\n",
              "\n",
              "// Listen for the removal of the full notebook cells\n",
              "var notebookContainer = gd.closest('#notebook-container');\n",
              "if (notebookContainer) {{\n",
              "    x.observe(notebookContainer, {childList: true});\n",
              "}}\n",
              "\n",
              "// Listen for the clearing of the current output cell\n",
              "var outputEl = gd.closest('.output');\n",
              "if (outputEl) {{\n",
              "    x.observe(outputEl, {childList: true});\n",
              "}}\n",
              "\n",
              "                        })                };                            </script>        </div>\n",
              "</body>\n",
              "</html>"
            ]
          },
          "metadata": {}
        }
      ]
    },
    {
      "cell_type": "code",
      "source": [
        "# Repeat for PCA in 3D\n",
        "pca = PCA(n_components=3)\n",
        "X_reduced_3D = pca.fit_transform(X_scaled)"
      ],
      "metadata": {
        "id": "vVEOe-COVOql"
      },
      "execution_count": null,
      "outputs": []
    },
    {
      "cell_type": "code",
      "source": [
        "# Plot\n",
        "df = pd.DataFrame({\n",
        "    'PC1': X_reduced_3D[:, 0],\n",
        "    'PC2': X_reduced_3D[:, 1],\n",
        "    'PC3': X_reduced_3D[:, 2],\n",
        "    'Sentiment': labels,\n",
        "    'Sentence': sentences\n",
        "})\n",
        "\n",
        "fig = px.scatter_3d(\n",
        "    df,\n",
        "    x='PC1',\n",
        "    y='PC2',\n",
        "    z='PC3',\n",
        "    color='Sentiment',\n",
        "    color_discrete_map=color_map,\n",
        "    hover_data=['Sentence'],  # Show sentence text on hover\n",
        "    title='PCA of Sentence Embeddings by Sentiment'\n",
        ")\n",
        "\n",
        "fig.update_traces(marker=dict(size=12, line=dict(width=1, color='DarkSlateGrey'), opacity=0.8))\n",
        "\n",
        "fig.show()"
      ],
      "metadata": {
        "colab": {
          "base_uri": "https://localhost:8080/",
          "height": 542
        },
        "id": "uIaL6vRDViyK",
        "outputId": "4b580934-f9e9-45ca-e2aa-503c3fed7b68"
      },
      "execution_count": null,
      "outputs": [
        {
          "output_type": "display_data",
          "data": {
            "text/html": [
              "<html>\n",
              "<head><meta charset=\"utf-8\" /></head>\n",
              "<body>\n",
              "    <div>            <script src=\"https://cdnjs.cloudflare.com/ajax/libs/mathjax/2.7.5/MathJax.js?config=TeX-AMS-MML_SVG\"></script><script type=\"text/javascript\">if (window.MathJax && window.MathJax.Hub && window.MathJax.Hub.Config) {window.MathJax.Hub.Config({SVG: {font: \"STIX-Web\"}});}</script>                <script type=\"text/javascript\">window.PlotlyConfig = {MathJaxConfig: 'local'};</script>\n",
              "        <script charset=\"utf-8\" src=\"https://cdn.plot.ly/plotly-2.35.2.min.js\"></script>                <div id=\"882b5d99-524e-4cb4-9b25-fbd0541a1df7\" class=\"plotly-graph-div\" style=\"height:525px; width:100%;\"></div>            <script type=\"text/javascript\">                                    window.PLOTLYENV=window.PLOTLYENV || {};                                    if (document.getElementById(\"882b5d99-524e-4cb4-9b25-fbd0541a1df7\")) {                    Plotly.newPlot(                        \"882b5d99-524e-4cb4-9b25-fbd0541a1df7\",                        [{\"customdata\":[[\"I am feeling fantastic today.\"],[\"Life is beautiful when you're surrounded by love.\"],[\"That was the best surprise I've had in years.\"],[\"I'm truly grateful for my friends.\"],[\"The weather is perfect, and so is my mood.\"],[\"I crushed my goals this week!\"],[\"I can't stop smiling — this is amazing.\"],[\"That compliment made my day.\"],[\"I'm in such a good headspace lately.\"],[\"Everything feels like it's falling into place.\"],[\"This vacation is everything I needed.\"],[\"I feel inspired and energized.\"],[\"That movie filled me with hope.\"],[\"I just got great news — I got the job!\"],[\"I'm proud of what I've accomplished.\"],[\"She laughed, and it was contagious joy.\"],[\"I've never been this happy.\"],[\"Things are finally turning around.\"],[\"Today feels like a fresh start.\"],[\"I feel deeply at peace right now.\"],[\"He hugged me, and everything felt okay.\"],[\"This cake is divine.\"],[\"I'm bursting with excitement!\"],[\"Just got promoted — I'm thrilled!\"],[\"I love the way life surprises me sometimes.\"]],\"hovertemplate\":\"Sentiment=positive\\u003cbr\\u003ePC1=%{x}\\u003cbr\\u003ePC2=%{y}\\u003cbr\\u003ePC3=%{z}\\u003cbr\\u003eSentence=%{customdata[0]}\\u003cextra\\u003e\\u003c\\u002fextra\\u003e\",\"legendgroup\":\"positive\",\"marker\":{\"color\":\"green\",\"symbol\":\"circle\",\"line\":{\"color\":\"DarkSlateGrey\",\"width\":1},\"opacity\":0.8,\"size\":12},\"mode\":\"markers\",\"name\":\"positive\",\"scene\":\"scene\",\"showlegend\":true,\"x\":[-3.8910512152293246,-15.779259819653518,-22.330049878733423,-11.400699858294331,-9.304124076906533,-4.8485196420533,-16.368771598480958,-19.423995969938822,-4.100780716022856,-1.8806016466687632,-9.337719409451516,-3.0768489674931994,-8.306769343639084,-17.767624354626818,-8.076060345138838,-21.958503715414892,-12.931319789288846,-6.366198362049913,-3.0113419351027515,0.23183680098089493,-1.2269405565248568,-13.434731670205169,-14.098136100916463,-18.47246994325134,-13.156045778913882],\"y\":[-16.214464763794894,-3.7207705860753335,3.1292337184996115,-0.2911816775417289,-12.973974167008349,10.369251601245198,0.6117775602818539,-3.9969278934940875,-11.792986784603178,-4.323671609933817,-0.7597523446803028,-10.061067510382237,2.6200763158284937,-2.464533389225587,-0.6433206335886027,-0.8054415205930218,-1.1522336574069543,-1.2528293762341374,-5.521124161611065,-15.354641635467821,-13.093439416382186,3.5512835308378654,0.6517559651166518,-4.700179105401364,0.8691027531009105],\"z\":[7.999769005951912,-4.023078008506988,-3.543387013753573,3.5951264533423273,3.690511837772735,4.345616403262321,7.3238983883049364,-4.143579165608157,7.9558138486783605,-0.2572434088943555,-1.1427142062544644,17.498601822744977,2.2019848137819693,7.299746650393499,11.529662760072771,-1.4316338926080774,4.222438889373771,-3.3273919049666127,-2.1725582262825123,7.729728294578216,-4.577937732945521,-2.461629066815948,13.911000950773747,12.845541733923762,-1.720250557555678],\"type\":\"scatter3d\"},{\"customdata\":[[\"I'm feeling really down today.\"],[\"Nothing seems to go my way anymore.\"],[\"I just feel empty inside.\"],[\"That was the worst experience of my life.\"],[\"I'm overwhelmed and exhausted.\"],[\"I feel like a failure.\"],[\"I don't know how much more I can take.\"],[\"I'm losing hope.\"],[\"Every day feels harder than the last.\"],[\"I wish I could disappear for a while.\"],[\"That comment really hurt.\"],[\"I hate how I feel right now.\"],[\"I'm completely heartbroken.\"],[\"This isn't how I thought life would go.\"],[\"I cried myself to sleep last night.\"],[\"I feel stuck and powerless.\"],[\"It's all just too much sometimes.\"],[\"I failed again.\"],[\"Everything is falling apart.\"],[\"I feel like giving up.\"],[\"I'm so frustrated I could scream.\"],[\"I regret ever trying.\"],[\"No one understands what I'm going through.\"],[\"I can't shake this sadness.\"],[\"That news hit me like a truck.\"]],\"hovertemplate\":\"Sentiment=negative\\u003cbr\\u003ePC1=%{x}\\u003cbr\\u003ePC2=%{y}\\u003cbr\\u003ePC3=%{z}\\u003cbr\\u003eSentence=%{customdata[0]}\\u003cextra\\u003e\\u003c\\u002fextra\\u003e\",\"legendgroup\":\"negative\",\"marker\":{\"color\":\"red\",\"symbol\":\"circle\",\"line\":{\"color\":\"DarkSlateGrey\",\"width\":1},\"opacity\":0.8,\"size\":12},\"mode\":\"markers\",\"name\":\"negative\",\"scene\":\"scene\",\"showlegend\":true,\"x\":[11.585981412458137,7.3398097425141025,13.755265327665422,-2.226548312151441,4.504647602880253,12.608319422486101,7.946320873936432,7.896029403773243,6.167193359814893,-1.073463154668618,-2.634406884331335,12.3448593269386,4.588345812195406,-1.0038604189752556,0.7462822338696158,15.470118198761844,-0.1699270461969252,3.1998195911939726,4.865101955034524,13.399348128124858,2.684469203271479,-0.7334458911941216,10.199684024550487,7.5250337598114045,-7.613950693158029],\"y\":[-0.5234710511247521,8.361455603890676,-0.5226384876820835,16.858574042218198,5.900655258897004,12.465016747130074,14.086014331370972,16.842925568927058,12.271963488078239,2.025073966895775,11.068099995487474,3.124289570563933,12.517125458155151,6.694021890167763,9.159174225225943,7.1113098397645,9.839936123857205,18.13974071541707,11.968722928049877,12.901160982872762,15.12521281900951,18.161355521670117,10.305087433382022,7.949477679019748,6.200001201399051],\"z\":[1.0373926140685397,-6.64619624903738,3.655445369142266,-10.623560371021332,11.903783363369014,7.545002349149452,2.396613760141521,1.011567044683169,-10.426017980745142,-1.9172788233844165,-6.967637759547489,6.699019299428126,4.734235397347599,-7.778929111936822,-2.7872442829421007,8.495567212531341,-4.226829121185112,-3.999682621589138,-5.850097237504227,9.752359539440016,8.553343260986376,-3.8261775376319505,-1.8431812673954058,0.5226826720228314,0.8286239422308193],\"type\":\"scatter3d\"},{\"customdata\":[[\"I feel okay.\"],[\"I'm not sure how I feel.\"],[\"It was just an ordinary day.\"],[\"I'm in a weird mood.\"],[\"Things are fine, I guess.\"],[\"I feel nothing in particular.\"],[\"It's been a quiet afternoon.\"],[\"I'm somewhere in the middle.\"],[\"I feel a bit off, but not bad.\"],[\"Nothing really happened today.\"],[\"I feel neutral about the situation.\"],[\"I guess I'm alright.\"],[\"The day went by uneventfully.\"],[\"I feel kind of numb.\"],[\"I'm just existing right now.\"]],\"hovertemplate\":\"Sentiment=neutral\\u003cbr\\u003ePC1=%{x}\\u003cbr\\u003ePC2=%{y}\\u003cbr\\u003ePC3=%{z}\\u003cbr\\u003eSentence=%{customdata[0]}\\u003cextra\\u003e\\u003c\\u002fextra\\u003e\",\"legendgroup\":\"neutral\",\"marker\":{\"color\":\"gray\",\"symbol\":\"circle\",\"line\":{\"color\":\"DarkSlateGrey\",\"width\":1},\"opacity\":0.8,\"size\":12},\"mode\":\"markers\",\"name\":\"neutral\",\"scene\":\"scene\",\"showlegend\":true,\"x\":[13.980573139269762,13.708115235177205,-2.6118055065364634,6.69906778058305,5.218212596546228,16.27089272514371,1.1592761760957666,9.97995140996761,13.84901127788581,4.688234246759989,14.930113841138112,6.643878464348831,1.1740158474829099,17.31435393248275,5.9418097480682],\"y\":[-18.885836426966293,-6.224760031099876,-7.037905279805326,-7.795745699716919,-16.511651144083437,-13.284573162171654,-9.152077884172114,-6.990928960284227,-18.657390983958297,-7.789969624749233,-10.06734726955898,-14.071338192339015,-7.282153092867592,-9.807702109899001,-7.150847202457218],\"z\":[4.411347888216865,8.650716283660623,-27.16173526586401,5.998471834947937,-10.930968383384844,-2.6850333463256124,-17.63781335278668,8.100224438318724,2.499554791773666,-25.97800246715703,2.9577357025722533,-0.5992619299530783,-29.733359091705278,3.5839744020917363,-5.066693633789227],\"type\":\"scatter3d\"}],                        {\"template\":{\"data\":{\"histogram2dcontour\":[{\"type\":\"histogram2dcontour\",\"colorbar\":{\"outlinewidth\":0,\"ticks\":\"\"},\"colorscale\":[[0.0,\"#0d0887\"],[0.1111111111111111,\"#46039f\"],[0.2222222222222222,\"#7201a8\"],[0.3333333333333333,\"#9c179e\"],[0.4444444444444444,\"#bd3786\"],[0.5555555555555556,\"#d8576b\"],[0.6666666666666666,\"#ed7953\"],[0.7777777777777778,\"#fb9f3a\"],[0.8888888888888888,\"#fdca26\"],[1.0,\"#f0f921\"]]}],\"choropleth\":[{\"type\":\"choropleth\",\"colorbar\":{\"outlinewidth\":0,\"ticks\":\"\"}}],\"histogram2d\":[{\"type\":\"histogram2d\",\"colorbar\":{\"outlinewidth\":0,\"ticks\":\"\"},\"colorscale\":[[0.0,\"#0d0887\"],[0.1111111111111111,\"#46039f\"],[0.2222222222222222,\"#7201a8\"],[0.3333333333333333,\"#9c179e\"],[0.4444444444444444,\"#bd3786\"],[0.5555555555555556,\"#d8576b\"],[0.6666666666666666,\"#ed7953\"],[0.7777777777777778,\"#fb9f3a\"],[0.8888888888888888,\"#fdca26\"],[1.0,\"#f0f921\"]]}],\"heatmap\":[{\"type\":\"heatmap\",\"colorbar\":{\"outlinewidth\":0,\"ticks\":\"\"},\"colorscale\":[[0.0,\"#0d0887\"],[0.1111111111111111,\"#46039f\"],[0.2222222222222222,\"#7201a8\"],[0.3333333333333333,\"#9c179e\"],[0.4444444444444444,\"#bd3786\"],[0.5555555555555556,\"#d8576b\"],[0.6666666666666666,\"#ed7953\"],[0.7777777777777778,\"#fb9f3a\"],[0.8888888888888888,\"#fdca26\"],[1.0,\"#f0f921\"]]}],\"heatmapgl\":[{\"type\":\"heatmapgl\",\"colorbar\":{\"outlinewidth\":0,\"ticks\":\"\"},\"colorscale\":[[0.0,\"#0d0887\"],[0.1111111111111111,\"#46039f\"],[0.2222222222222222,\"#7201a8\"],[0.3333333333333333,\"#9c179e\"],[0.4444444444444444,\"#bd3786\"],[0.5555555555555556,\"#d8576b\"],[0.6666666666666666,\"#ed7953\"],[0.7777777777777778,\"#fb9f3a\"],[0.8888888888888888,\"#fdca26\"],[1.0,\"#f0f921\"]]}],\"contourcarpet\":[{\"type\":\"contourcarpet\",\"colorbar\":{\"outlinewidth\":0,\"ticks\":\"\"}}],\"contour\":[{\"type\":\"contour\",\"colorbar\":{\"outlinewidth\":0,\"ticks\":\"\"},\"colorscale\":[[0.0,\"#0d0887\"],[0.1111111111111111,\"#46039f\"],[0.2222222222222222,\"#7201a8\"],[0.3333333333333333,\"#9c179e\"],[0.4444444444444444,\"#bd3786\"],[0.5555555555555556,\"#d8576b\"],[0.6666666666666666,\"#ed7953\"],[0.7777777777777778,\"#fb9f3a\"],[0.8888888888888888,\"#fdca26\"],[1.0,\"#f0f921\"]]}],\"surface\":[{\"type\":\"surface\",\"colorbar\":{\"outlinewidth\":0,\"ticks\":\"\"},\"colorscale\":[[0.0,\"#0d0887\"],[0.1111111111111111,\"#46039f\"],[0.2222222222222222,\"#7201a8\"],[0.3333333333333333,\"#9c179e\"],[0.4444444444444444,\"#bd3786\"],[0.5555555555555556,\"#d8576b\"],[0.6666666666666666,\"#ed7953\"],[0.7777777777777778,\"#fb9f3a\"],[0.8888888888888888,\"#fdca26\"],[1.0,\"#f0f921\"]]}],\"mesh3d\":[{\"type\":\"mesh3d\",\"colorbar\":{\"outlinewidth\":0,\"ticks\":\"\"}}],\"scatter\":[{\"fillpattern\":{\"fillmode\":\"overlay\",\"size\":10,\"solidity\":0.2},\"type\":\"scatter\"}],\"parcoords\":[{\"type\":\"parcoords\",\"line\":{\"colorbar\":{\"outlinewidth\":0,\"ticks\":\"\"}}}],\"scatterpolargl\":[{\"type\":\"scatterpolargl\",\"marker\":{\"colorbar\":{\"outlinewidth\":0,\"ticks\":\"\"}}}],\"bar\":[{\"error_x\":{\"color\":\"#2a3f5f\"},\"error_y\":{\"color\":\"#2a3f5f\"},\"marker\":{\"line\":{\"color\":\"#E5ECF6\",\"width\":0.5},\"pattern\":{\"fillmode\":\"overlay\",\"size\":10,\"solidity\":0.2}},\"type\":\"bar\"}],\"scattergeo\":[{\"type\":\"scattergeo\",\"marker\":{\"colorbar\":{\"outlinewidth\":0,\"ticks\":\"\"}}}],\"scatterpolar\":[{\"type\":\"scatterpolar\",\"marker\":{\"colorbar\":{\"outlinewidth\":0,\"ticks\":\"\"}}}],\"histogram\":[{\"marker\":{\"pattern\":{\"fillmode\":\"overlay\",\"size\":10,\"solidity\":0.2}},\"type\":\"histogram\"}],\"scattergl\":[{\"type\":\"scattergl\",\"marker\":{\"colorbar\":{\"outlinewidth\":0,\"ticks\":\"\"}}}],\"scatter3d\":[{\"type\":\"scatter3d\",\"line\":{\"colorbar\":{\"outlinewidth\":0,\"ticks\":\"\"}},\"marker\":{\"colorbar\":{\"outlinewidth\":0,\"ticks\":\"\"}}}],\"scattermapbox\":[{\"type\":\"scattermapbox\",\"marker\":{\"colorbar\":{\"outlinewidth\":0,\"ticks\":\"\"}}}],\"scatterternary\":[{\"type\":\"scatterternary\",\"marker\":{\"colorbar\":{\"outlinewidth\":0,\"ticks\":\"\"}}}],\"scattercarpet\":[{\"type\":\"scattercarpet\",\"marker\":{\"colorbar\":{\"outlinewidth\":0,\"ticks\":\"\"}}}],\"carpet\":[{\"aaxis\":{\"endlinecolor\":\"#2a3f5f\",\"gridcolor\":\"white\",\"linecolor\":\"white\",\"minorgridcolor\":\"white\",\"startlinecolor\":\"#2a3f5f\"},\"baxis\":{\"endlinecolor\":\"#2a3f5f\",\"gridcolor\":\"white\",\"linecolor\":\"white\",\"minorgridcolor\":\"white\",\"startlinecolor\":\"#2a3f5f\"},\"type\":\"carpet\"}],\"table\":[{\"cells\":{\"fill\":{\"color\":\"#EBF0F8\"},\"line\":{\"color\":\"white\"}},\"header\":{\"fill\":{\"color\":\"#C8D4E3\"},\"line\":{\"color\":\"white\"}},\"type\":\"table\"}],\"barpolar\":[{\"marker\":{\"line\":{\"color\":\"#E5ECF6\",\"width\":0.5},\"pattern\":{\"fillmode\":\"overlay\",\"size\":10,\"solidity\":0.2}},\"type\":\"barpolar\"}],\"pie\":[{\"automargin\":true,\"type\":\"pie\"}]},\"layout\":{\"autotypenumbers\":\"strict\",\"colorway\":[\"#636efa\",\"#EF553B\",\"#00cc96\",\"#ab63fa\",\"#FFA15A\",\"#19d3f3\",\"#FF6692\",\"#B6E880\",\"#FF97FF\",\"#FECB52\"],\"font\":{\"color\":\"#2a3f5f\"},\"hovermode\":\"closest\",\"hoverlabel\":{\"align\":\"left\"},\"paper_bgcolor\":\"white\",\"plot_bgcolor\":\"#E5ECF6\",\"polar\":{\"bgcolor\":\"#E5ECF6\",\"angularaxis\":{\"gridcolor\":\"white\",\"linecolor\":\"white\",\"ticks\":\"\"},\"radialaxis\":{\"gridcolor\":\"white\",\"linecolor\":\"white\",\"ticks\":\"\"}},\"ternary\":{\"bgcolor\":\"#E5ECF6\",\"aaxis\":{\"gridcolor\":\"white\",\"linecolor\":\"white\",\"ticks\":\"\"},\"baxis\":{\"gridcolor\":\"white\",\"linecolor\":\"white\",\"ticks\":\"\"},\"caxis\":{\"gridcolor\":\"white\",\"linecolor\":\"white\",\"ticks\":\"\"}},\"coloraxis\":{\"colorbar\":{\"outlinewidth\":0,\"ticks\":\"\"}},\"colorscale\":{\"sequential\":[[0.0,\"#0d0887\"],[0.1111111111111111,\"#46039f\"],[0.2222222222222222,\"#7201a8\"],[0.3333333333333333,\"#9c179e\"],[0.4444444444444444,\"#bd3786\"],[0.5555555555555556,\"#d8576b\"],[0.6666666666666666,\"#ed7953\"],[0.7777777777777778,\"#fb9f3a\"],[0.8888888888888888,\"#fdca26\"],[1.0,\"#f0f921\"]],\"sequentialminus\":[[0.0,\"#0d0887\"],[0.1111111111111111,\"#46039f\"],[0.2222222222222222,\"#7201a8\"],[0.3333333333333333,\"#9c179e\"],[0.4444444444444444,\"#bd3786\"],[0.5555555555555556,\"#d8576b\"],[0.6666666666666666,\"#ed7953\"],[0.7777777777777778,\"#fb9f3a\"],[0.8888888888888888,\"#fdca26\"],[1.0,\"#f0f921\"]],\"diverging\":[[0,\"#8e0152\"],[0.1,\"#c51b7d\"],[0.2,\"#de77ae\"],[0.3,\"#f1b6da\"],[0.4,\"#fde0ef\"],[0.5,\"#f7f7f7\"],[0.6,\"#e6f5d0\"],[0.7,\"#b8e186\"],[0.8,\"#7fbc41\"],[0.9,\"#4d9221\"],[1,\"#276419\"]]},\"xaxis\":{\"gridcolor\":\"white\",\"linecolor\":\"white\",\"ticks\":\"\",\"title\":{\"standoff\":15},\"zerolinecolor\":\"white\",\"automargin\":true,\"zerolinewidth\":2},\"yaxis\":{\"gridcolor\":\"white\",\"linecolor\":\"white\",\"ticks\":\"\",\"title\":{\"standoff\":15},\"zerolinecolor\":\"white\",\"automargin\":true,\"zerolinewidth\":2},\"scene\":{\"xaxis\":{\"backgroundcolor\":\"#E5ECF6\",\"gridcolor\":\"white\",\"linecolor\":\"white\",\"showbackground\":true,\"ticks\":\"\",\"zerolinecolor\":\"white\",\"gridwidth\":2},\"yaxis\":{\"backgroundcolor\":\"#E5ECF6\",\"gridcolor\":\"white\",\"linecolor\":\"white\",\"showbackground\":true,\"ticks\":\"\",\"zerolinecolor\":\"white\",\"gridwidth\":2},\"zaxis\":{\"backgroundcolor\":\"#E5ECF6\",\"gridcolor\":\"white\",\"linecolor\":\"white\",\"showbackground\":true,\"ticks\":\"\",\"zerolinecolor\":\"white\",\"gridwidth\":2}},\"shapedefaults\":{\"line\":{\"color\":\"#2a3f5f\"}},\"annotationdefaults\":{\"arrowcolor\":\"#2a3f5f\",\"arrowhead\":0,\"arrowwidth\":1},\"geo\":{\"bgcolor\":\"white\",\"landcolor\":\"#E5ECF6\",\"subunitcolor\":\"white\",\"showland\":true,\"showlakes\":true,\"lakecolor\":\"white\"},\"title\":{\"x\":0.05},\"mapbox\":{\"style\":\"light\"}}},\"scene\":{\"domain\":{\"x\":[0.0,1.0],\"y\":[0.0,1.0]},\"xaxis\":{\"title\":{\"text\":\"PC1\"}},\"yaxis\":{\"title\":{\"text\":\"PC2\"}},\"zaxis\":{\"title\":{\"text\":\"PC3\"}}},\"legend\":{\"title\":{\"text\":\"Sentiment\"},\"tracegroupgap\":0},\"title\":{\"text\":\"PCA of Sentence Embeddings by Sentiment\"}},                        {\"responsive\": true}                    ).then(function(){\n",
              "                            \n",
              "var gd = document.getElementById('882b5d99-524e-4cb4-9b25-fbd0541a1df7');\n",
              "var x = new MutationObserver(function (mutations, observer) {{\n",
              "        var display = window.getComputedStyle(gd).display;\n",
              "        if (!display || display === 'none') {{\n",
              "            console.log([gd, 'removed!']);\n",
              "            Plotly.purge(gd);\n",
              "            observer.disconnect();\n",
              "        }}\n",
              "}});\n",
              "\n",
              "// Listen for the removal of the full notebook cells\n",
              "var notebookContainer = gd.closest('#notebook-container');\n",
              "if (notebookContainer) {{\n",
              "    x.observe(notebookContainer, {childList: true});\n",
              "}}\n",
              "\n",
              "// Listen for the clearing of the current output cell\n",
              "var outputEl = gd.closest('.output');\n",
              "if (outputEl) {{\n",
              "    x.observe(outputEl, {childList: true});\n",
              "}}\n",
              "\n",
              "                        })                };                            </script>        </div>\n",
              "</body>\n",
              "</html>"
            ]
          },
          "metadata": {}
        }
      ]
    },
    {
      "cell_type": "markdown",
      "source": [
        "##PCA Results\n",
        "\n",
        "- The PCA projections reveals distinct clustering of positive and negative sentence embeddings in both dimensional analyses, suggesting the embedding model captures sentiment well. Neutral sentences tend to lie between the two, often overlapping slightly, which aligns with their in-between tone. This is visibly apparent in both 2D and 3D plots."
      ],
      "metadata": {
        "id": "OqKv5H-3XEmf"
      }
    },
    {
      "cell_type": "markdown",
      "source": [
        "##Constructing a \"Sentiment Direction\"\n",
        "\n",
        "- The PCA results reveal intriguing structure in the embedding space—prompting the question: can sentiment be captured as a consistent geometric direction within this space?\n",
        "\n",
        "- Building on this, I attempt to shift a negative sentence toward positivity using predictable vector arithmetic.\n",
        "\n",
        "    **Methodology**\n",
        "\n",
        "    - To extract a negative → positive sentiment direction, we must compute the vector difference between the average embeddings of negative and positive sentences. Specifically, we define negative_avg and positive_avg as the mean vectors of all negatively and positively labeled embeddings, respectively. The vector positive_avg - negative_avg then represents the directional shift from negativity to positivity in the embedding space, as conceptually illustrated below.\n",
        "\n",
        "    ![Screenshot 2568-05-30 at 18.48.29.png](data:image/png;base64,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)"
      ],
      "metadata": {
        "id": "Dk8RfaqzYhkO"
      }
    },
    {
      "cell_type": "code",
      "source": [
        "np_labels = np.array(labels)  # Convert list to numpy array for easy filtering\n",
        "\n",
        "positive_avg = X[np_labels == \"positive\"].mean(axis=0)\n",
        "negative_avg = X[np_labels == \"negative\"].mean(axis=0)\n",
        "\n",
        "print(\"Positive avg vector:\", positive_avg)\n",
        "print(\"Negative avg vector:\", negative_avg)"
      ],
      "metadata": {
        "colab": {
          "base_uri": "https://localhost:8080/"
        },
        "id": "n8Z-j01mYwtB",
        "outputId": "25f98ec4-1f16-46d5-8207-5c641ee97a03"
      },
      "execution_count": null,
      "outputs": [
        {
          "output_type": "stream",
          "name": "stdout",
          "text": [
            "Positive avg vector: [ 0.00720649 -0.01121324 -0.05277958 ... -0.00729927 -0.01067429\n",
            "  0.01104435]\n",
            "Negative avg vector: [-0.00103827 -0.0007129  -0.03136986 ...  0.00050975 -0.01320443\n",
            "  0.01598728]\n"
          ]
        }
      ]
    },
    {
      "cell_type": "code",
      "source": [
        "# Contstruct Sentiment Direction\n",
        "sentiment_direction = positive_avg - negative_avg\n",
        "\n",
        "# Take Test Negative Sentence\n",
        "test_sentence = \"Everything is falling apart.\"\n",
        "index = sentences.index(test_sentence)\n",
        "test_embedding = X[index]\n",
        "\n",
        "shifted_embedding = test_embedding + sentiment_direction\n",
        "\n",
        "print(test_embedding)\n",
        "print(shifted_embedding)"
      ],
      "metadata": {
        "colab": {
          "base_uri": "https://localhost:8080/"
        },
        "id": "QK_Su3uid1Ak",
        "outputId": "bd4f23ea-4aa6-4d3e-d460-781bc0fe920e"
      },
      "execution_count": null,
      "outputs": [
        {
          "output_type": "stream",
          "name": "stdout",
          "text": [
            "[-0.02972085  0.04347736  0.03294769 ...  0.00447936 -0.020564\n",
            " -0.02376253]\n",
            "[-0.02147609  0.03297701  0.01153797 ... -0.00332966 -0.01803385\n",
            " -0.02870546]\n"
          ]
        }
      ]
    },
    {
      "cell_type": "markdown",
      "source": [
        "## Nearest Neighbour Search\n",
        "\n",
        "Now Let:\n",
        "\n",
        "$$\n",
        "\\vec{u}, \\vec{v} \\in \\mathbb{R}^{1536}\n",
        "$$\n",
        "\n",
        "be two embedding vectors (an embedding sample and the shifted embedding). Then cosine similarity is mathematically defined as:\n",
        "\n",
        "$$\n",
        "\\text{cosine_sim}(\\vec{u}, \\vec{v}) = \\frac{\\vec{u} \\cdot \\vec{v}}{\\left\\| \\vec{u} \\right\\| \\left\\| \\vec{v} \\right\\|}\n",
        "$$\n",
        "\n",
        "> **Note:** The denominator contains the **L2 vector norms**\n",
        "\n",
        "> **Note:** cosine_sim will return a value between -1 and 1 where 1 indicates the vectors are identical and perfectly aligned (with no angle between them), 0 indicates the vectors are orthogonal (90 degrees to each other) with no match and -1 indicates completely opposite vectors (with a 180 degree angle between them)\n",
        "\n",
        "We use cosine similarity to:\n",
        "\n",
        "- Find the closest sentence in the original dataset to the transformed embedding  \n",
        "- Measure how much the sentiment shift preserves semantic content while altering emotional tone by observing the value"
      ],
      "metadata": {
        "id": "zBmTPoN1hmwF"
      }
    },
    {
      "cell_type": "code",
      "source": [
        "def cosine_sim(a,b):\n",
        "  return np.dot(a, b) / (np.linalg.norm(a) * np.linalg.norm(b))\n",
        "\n",
        "def find_nearest_neighbor(query_vec, embeddings, sentences, labels):\n",
        "    max_sim = -1\n",
        "    nearest_sentence = None\n",
        "    nearest_label = None\n",
        "\n",
        "    for embedding, sentence, label in zip(embeddings, sentences, labels):\n",
        "      if sentence != test_sentence:\n",
        "        sim = cosine_sim(query_vec, embedding)\n",
        "        if sim > max_sim:\n",
        "            max_sim = sim\n",
        "            nearest_sentence = sentence\n",
        "            nearest_label = label\n",
        "\n",
        "    return nearest_sentence, nearest_label, max_sim"
      ],
      "metadata": {
        "id": "ApLASK-ZhqUf"
      },
      "execution_count": null,
      "outputs": []
    },
    {
      "cell_type": "code",
      "source": [
        "# Usage:\n",
        "nearest_sentence, nearest_label, similarity = find_nearest_neighbor(\n",
        "    shifted_embedding, X, sentences, labels)\n",
        "\n",
        "print(f\"Nearest sentence: {nearest_sentence}\")\n",
        "print(f\"Sentiment label: {nearest_label}\")\n",
        "print(f\"Cosine similarity: {similarity:.4f}\")"
      ],
      "metadata": {
        "colab": {
          "base_uri": "https://localhost:8080/"
        },
        "id": "56X0voQIjb3n",
        "outputId": "0775ad68-c9af-4203-fb9d-77bc2c6bffaa"
      },
      "execution_count": null,
      "outputs": [
        {
          "output_type": "stream",
          "name": "stdout",
          "text": [
            "Nearest sentence: Everything feels like it's falling into place.\n",
            "Sentiment label: positive\n",
            "Cosine similarity: 0.6507\n"
          ]
        }
      ]
    },
    {
      "cell_type": "markdown",
      "source": [
        "##What This Might Mean?\n",
        "\n",
        "- Embeddings Capture Sentiment Semantics: The results suggest that the embedding space contains meaningful semantic structure related to sentiment. Sentences with similar sentiment cluster together and sentiment shifts correspond to predictable vector directions in the space.\n",
        "\n",
        "- Vector Arithmetic Reflects Sentiment Shifts: The ability to “move” an embedding from negative to positive sentiment (or vice versa) by adding/subtracting a sentiment direction vector shows that embeddings encode compositional information that can be manipulated mathematically.\n",
        "\n",
        "##Application Potential:\n",
        "\n",
        "This kind of manipulation could be used for tasks like:\n",
        "\n",
        "\n",
        "\n",
        "*   Sentiment Modification / Transfer for Content Generation\n",
        "    - Automatically improving or adapting the sentiment of text (e.g. transforming negative reviews into neutral or positive ones) can revolutionize personalized content creation and brand communication\n",
        "\n",
        "*   Provides Insight into AI Sentiment\n",
        "    - Helps explain why a sentence is classified as positive or negative by showing mathematically how far it is along the sentiment direction in embedding space.\n",
        "\n",
        "\n",
        "\n",
        "##Limitations:\n",
        "\n",
        "* Dataset Constraints: The experiment currently draws from a small, curated set of short English sentences, limiting linguistic diversity and real-world generalizability.\n",
        "* Model Dependency: Insights are limited to one embedding model (OpenAI's text-embedding-3-small); behavior across architectures remains unexplored.\n",
        "\n",
        "##Next Steps:\n",
        "\n",
        "* Multilingual & Stylistic Robustness: Evaluate how sentiment vector arithmetic performs on sentences in other languages (e.g., Hindi, Mandarin) and informal registers (e.g. slang, dialects, colloquialisms).\n",
        "\n",
        "* Cross-Model Generalization: Compare sentiment manipulation across different embedding models (e.g. USE, SBERT) to understand universal vs. model-specific behaviors.\n",
        "\n",
        "* Quantitative Clustering Validation: Apply clustering algorithms (e.g. K-Means) to formally validate sentiment groupings seen in PCA visualizations.\n",
        "\n",
        "* Extending to Broader Semantics: Explore whether this approach generalizes to other semantic dimensions such as formality, politeness, intensity etc."
      ],
      "metadata": {
        "id": "uwW_axswmtXx"
      }
    },
    {
      "cell_type": "markdown",
      "source": [
        "##References 📚\n",
        "\n",
        "- Jurafsky, D., & Martin, J. H. (2025). *Speech and Language Processing* (Draft, January 12, 2025). Chapter 6: Vector Semantics and Embeddings. Retrieved from [https://web.stanford.edu/~jurafsky/slp3/6.pdf](https://web.stanford.edu/~jurafsky/slp3/6.pdf)\n",
        "- OpenAI. (2024). *Embeddings*. [OpenAI Platform Documentation](https://platform.openai.com/docs/guides/embeddings)\n",
        "- GeeksforGeeks. *Principal Component Analysis with Python*. [Walkthrough](https://www.geeksforgeeks.org/principal-component-analysis-with-python/)\n",
        "- Scikit-learn Documentation: [PCA Module](https://scikit-learn.org/stable/modules/generated/sklearn.decomposition.PCA.html)"
      ],
      "metadata": {
        "id": "sXKSSsqiSpxq"
      }
    }
  ]
}